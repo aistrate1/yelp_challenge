{
 "cells": [
  {
   "cell_type": "markdown",
   "metadata": {},
   "source": [
    "# Yelp Dataset Challenge"
   ]
  },
  {
   "cell_type": "code",
   "execution_count": 45,
   "metadata": {},
   "outputs": [],
   "source": [
    "import json\n",
    "import ast\n",
    "import matplotlib.mlab as mlab\n",
    "import matplotlib.pyplot as plt\n",
    "import altair as alt\n",
    "alt.data_transformers.enable('default', max_rows=None)\n",
    "alt.renderers.enable('notebook')\n",
    "import pandas as pd\n",
    "import torch\n",
    "import torch.nn as nn\n",
    "from torch.autograd import Variable\n",
    "from torch.nn import init\n",
    "from sklearn.model_selection import train_test_split\n",
    "import numpy as np\n",
    "from sklearn.linear_model import LogisticRegression\n",
    "from sklearn.linear_model import LogisticRegressionCV\n",
    "from sklearn.linear_model import SGDClassifier\n",
    "import random\n",
    "import numpy as np\n",
    "import time\n",
    "import random\n",
    "from sklearn.metrics import f1_score\n",
    "from collections import defaultdict\n",
    "import torch.nn.functional as F"
   ]
  },
  {
   "cell_type": "code",
   "execution_count": 62,
   "metadata": {},
   "outputs": [],
   "source": [
    "neighborhoods = {}\n",
    "cities = {}\n",
    "states = {}\n",
    "postal_codes = {}\n",
    "latitudes = {}\n",
    "longitudes = {}\n",
    "stars = {}\n",
    "review_count = {}\n",
    "alcohol = {}\n",
    "bike_parking = {}\n",
    "accepts_credit_cards = {}\n",
    "caters = {}\n",
    "drivethru = {}\n",
    "goodforkids = {}\n",
    "hastv = {}\n",
    "noise_level = {}\n",
    "outdoor_seating = {}\n",
    "restuarants_price_range = {} \n",
    "delivery = {}\n",
    "goodforgroups = {}\n",
    "pricerange = {}\n",
    "reservations = {}\n",
    "table_service = {}\n",
    "takeout = {}\n",
    "wifi = {}"
   ]
  },
  {
   "cell_type": "markdown",
   "metadata": {},
   "source": [
    "## Parse the business file"
   ]
  },
  {
   "cell_type": "code",
   "execution_count": 63,
   "metadata": {
    "scrolled": true
   },
   "outputs": [],
   "source": [
    "business_mappings = {}\n",
    "with open('yelp_academic_dataset_business.json', 'r') as f:\n",
    "    for i, line in enumerate(f):\n",
    "        d = json.loads(line)\n",
    "        attributes = d['attributes']\n",
    "        if attributes != None:\n",
    "            business_id = d['business_id'].encode('utf-8')      \n",
    "            neighborhoods[business_id] = d['neighborhood'].encode('utf-8')\n",
    "            city = d['city'].encode('utf-8')\n",
    "            state = d['state'].encode('utf-8')\n",
    "            cities[business_id] = city\n",
    "            states[business_id] = state\n",
    "\n",
    "            postal_codes[business_id] = d['postal_code'].encode('utf-8')\n",
    "            latitude = d['latitude']\n",
    "            if latitude == None:\n",
    "                latitude = -1\n",
    "            latitudes[business_id] = latitude\n",
    "\n",
    "            longitude = d['longitude']\n",
    "            if longitude == None:\n",
    "                longitude = -1\n",
    "            longitudes[business_id] = longitude\n",
    "            star_rating = float(d['stars'])\n",
    "            stars[business_id] = star_rating\n",
    "\n",
    "            review_count[business_id] = float(d['review_count'])\n",
    "            \n",
    "            if \"Alcohol\" in attributes:\n",
    "                alcohol[business_id] = attributes[\"Alcohol\"].encode('utf-8')\n",
    "            else:\n",
    "                alcohol[business_id] = -1\n",
    "            if \"BikeParking\" in attributes:\n",
    "                bike_parking[business_id] = attributes[\"BikeParking\"].encode('utf-8')\n",
    "            else:\n",
    "                bike_parking[business_id] = -1\n",
    "            if \"BusinessAcceptsCreditCards\" in attributes:\n",
    "                accepts_credit_cards[business_id] = attributes[\"BusinessAcceptsCreditCards\"].encode('utf-8')\n",
    "            else:\n",
    "                accepts_credit_cards[business_id] = -1\n",
    "            if \"Caters\" in attributes:\n",
    "                caters[business_id] = attributes[\"Caters\"].encode('utf-8')\n",
    "            else:\n",
    "                caters[business_id] = -1\n",
    "            if \"GoodForKids\" in attributes:\n",
    "                goodforkids[business_id] = attributes[\"GoodForKids\"].encode('utf-8')\n",
    "            else:\n",
    "                goodforkids[business_id] = -1\n",
    "            if \"DriveThru\" in attributes:\n",
    "                drivethru[business_id] = attributes[\"DriveThru\"].encode('utf-8')\n",
    "            else:\n",
    "                drivethru[business_id] = -1\n",
    "            if \"HasTV\" in attributes:\n",
    "                hastv[business_id] = attributes[\"HasTV\"].encode('utf-8')\n",
    "            else:\n",
    "                hastv[business_id] = -1\n",
    "            if \"NoiseLevel\" in attributes:\n",
    "                noise_level[business_id] = attributes[\"NoiseLevel\"].encode('utf-8')\n",
    "            else:\n",
    "                noise_level[business_id] = -1\n",
    "            if \"OutdoorSeating\" in attributes:\n",
    "                outdoor_seating[business_id] = attributes[\"OutdoorSeating\"].encode('utf-8')\n",
    "            else:\n",
    "                outdoor_seating[business_id] = -1\n",
    "            if \"RestaurantPriceRange\" in attributes:\n",
    "                restuarants_price_range[business_id] = attributes[\"RestaurantPriceRange\"].encode('utf-8')\n",
    "            else:\n",
    "                restuarants_price_range[business_id] = -1\n",
    "            if \"RestaurantsDelivery\" in attributes:\n",
    "                delivery[business_id] = attributes[\"RestaurantsDelivery\"].encode('utf-8')\n",
    "            else:\n",
    "                delivery[business_id] = -1\n",
    "            if \"RestaurantsGoodForGroups\" in attributes:\n",
    "                goodforgroups[business_id] = attributes[\"RestaurantsGoodForGroups\"].encode('utf-8')\n",
    "            else:\n",
    "                goodforgroups[business_id] = -1\n",
    "            if \"RestaurantsPriceRange2\" in attributes:\n",
    "                pricerange[business_id] = attributes[\"RestaurantsPriceRange2\"].encode('utf-8')\n",
    "            else:\n",
    "                pricerange[business_id] = -1\n",
    "            if \"RestaurantsReservations\" in attributes:\n",
    "                reservations[business_id] = attributes[\"RestaurantsReservations\"].encode('utf-8')\n",
    "            else:\n",
    "                reservations[business_id] = -1\n",
    "            if \"RestaurantsTableService\" in attributes:\n",
    "                table_service[business_id] = attributes[\"RestaurantsTableService\"].encode('utf-8')\n",
    "            else:\n",
    "                table_service[business_id] = -1\n",
    "            if \"RestaurantsTakeOut\" in attributes:\n",
    "                takeout[business_id] = attributes[\"RestaurantsTakeOut\"].encode('utf-8')\n",
    "            else:\n",
    "                takeout[business_id] = -1\n",
    "            if \"WiFi\" in attributes:\n",
    "                wifi[business_id] = attributes[\"WiFi\"].encode('utf-8')\n",
    "            else:\n",
    "                wifi[business_id] = -1"
   ]
  },
  {
   "cell_type": "markdown",
   "metadata": {},
   "source": [
    "## Printing some stats about the dataset"
   ]
  },
  {
   "cell_type": "code",
   "execution_count": 4,
   "metadata": {},
   "outputs": [
    {
     "name": "stdout",
     "output_type": "stream",
     "text": [
      "Number of cities: 1033\n",
      "Number of states: 65\n",
      "Number of postal codes: 162807\n"
     ]
    }
   ],
   "source": [
    "cities_set = set(cities.values())\n",
    "states_set = set(states.values())\n",
    "postal_codes_set = set(postal_codes.values())\n",
    "print(\"Number of cities: \" + str(len(cities_set)))\n",
    "print(\"Number of states: \" + str(len(states_set)))\n",
    "print(\"Number of postal codes: \" + str(len(postal_codes)))"
   ]
  },
  {
   "cell_type": "code",
   "execution_count": 5,
   "metadata": {},
   "outputs": [
    {
     "name": "stdout",
     "output_type": "stream",
     "text": [
      "Average start rating: 3.6606380561\n"
     ]
    },
    {
     "data": {
      "image/png": "[encoded data removed]",
      "text/plain": [
       "<Figure size 432x288 with 1 Axes>"
      ]
     },
     "metadata": {
      "needs_background": "light"
     },
     "output_type": "display_data"
    }
   ],
   "source": [
    "print(\"Average start rating: \" + str(sum(stars.values())/len(stars.values())))\n",
    "plt.hist(stars.values(), 20, color='#D32323')\n",
    "plt.plot()\n",
    "plt.show()"
   ]
  },
  {
   "cell_type": "markdown",
   "metadata": {},
   "source": [
    "### Getting business features"
   ]
  },
  {
   "cell_type": "code",
   "execution_count": 6,
   "metadata": {},
   "outputs": [],
   "source": [
    "mappings = [neighborhoods, cities, states, postal_codes, alcohol, bike_parking, accepts_credit_cards, caters, drivethru, goodforkids, hastv, noise_level, outdoor_seating, restuarants_price_range, delivery, goodforgroups, pricerange, reservations, table_service, takeout, wifi]\n",
    "categorical_mappings = []\n",
    "for mapping in mappings:           \n",
    "    sorted_map = {}\n",
    "    map_values = set(mapping.values())\n",
    "    sorted_var_set = sorted(map_values)\n",
    "    for value in map_values:\n",
    "        sorted_map[value] = sorted_var_set.index(value)\n",
    "    categorical_mappings.append(sorted_map)"
   ]
  },
  {
   "cell_type": "code",
   "execution_count": 7,
   "metadata": {},
   "outputs": [],
   "source": [
    "def get_feature_vector(business_id):\n",
    "    feature_vector = []\n",
    "    feature_vector.append(categorical_mappings[0][neighborhoods[business_id]])\n",
    "    feature_vector.append(categorical_mappings[1][cities[business_id]])\n",
    "    feature_vector.append(categorical_mappings[2][states[business_id]])\n",
    "    feature_vector.append(categorical_mappings[3][postal_codes[business_id]])\n",
    "    feature_vector.append(categorical_mappings[4][alcohol[business_id]])\n",
    "    feature_vector.append(latitudes[business_id])\n",
    "    feature_vector.append(longitudes[business_id])\n",
    "    feature_vector.append(review_count[business_id])\n",
    "    feature_vector.append(categorical_mappings[5][bike_parking[business_id]])\n",
    "    feature_vector.append(categorical_mappings[6][accepts_credit_cards[business_id]])\n",
    "    feature_vector.append(categorical_mappings[7][caters[business_id]])\n",
    "    feature_vector.append(categorical_mappings[8][drivethru[business_id]])\n",
    "    feature_vector.append(categorical_mappings[9][goodforkids[business_id]])\n",
    "    feature_vector.append(categorical_mappings[10][hastv[business_id]])\n",
    "    feature_vector.append(categorical_mappings[11][noise_level[business_id]])\n",
    "    feature_vector.append(categorical_mappings[12][outdoor_seating[business_id]])\n",
    "    feature_vector.append(categorical_mappings[13][restuarants_price_range[business_id]])\n",
    "    feature_vector.append(categorical_mappings[14][delivery[business_id]])\n",
    "    feature_vector.append(categorical_mappings[15][goodforgroups[business_id]])\n",
    "    feature_vector.append(categorical_mappings[16][pricerange[business_id]])\n",
    "    feature_vector.append(categorical_mappings[17][reservations[business_id]])\n",
    "    feature_vector.append(categorical_mappings[18][table_service[business_id]])\n",
    "    feature_vector.append(categorical_mappings[19][takeout[business_id]])\n",
    "    feature_vector.append(categorical_mappings[20][wifi[business_id]])\n",
    "    return feature_vector"
   ]
  },
  {
   "cell_type": "code",
   "execution_count": 8,
   "metadata": {},
   "outputs": [
    {
     "name": "stdout",
     "output_type": "stream",
     "text": [
      "162807\n"
     ]
    }
   ],
   "source": [
    "X_business = []\n",
    "y_business = []\n",
    "print(len(stars))\n",
    "business_mappings = {}\n",
    "i = 0\n",
    "for business_id, rating in stars.iteritems():\n",
    "    business_mappings[business_id] = i\n",
    "    X_business.append(get_feature_vector(business_id))\n",
    "    y_business.append(rating)\n",
    "    i += 1"
   ]
  },
  {
   "cell_type": "code",
   "execution_count": 9,
   "metadata": {},
   "outputs": [
    {
     "name": "stdout",
     "output_type": "stream",
     "text": [
      "set([3.5, 2.5, 2.0, 3.0, 4.0, 5.0, 4.5, 1.0, 1.5])\n"
     ]
    }
   ],
   "source": [
    "print(set(y_business))"
   ]
  },
  {
   "cell_type": "code",
   "execution_count": 10,
   "metadata": {},
   "outputs": [],
   "source": [
    "y_cat = []\n",
    "sorted_y = sorted(set(y_business))\n",
    "for val in y_business:\n",
    "    y_cat.append(sorted_y.index(val))"
   ]
  },
  {
   "cell_type": "code",
   "execution_count": 11,
   "metadata": {},
   "outputs": [
    {
     "name": "stdout",
     "output_type": "stream",
     "text": [
      "(0, 8)\n"
     ]
    }
   ],
   "source": [
    "X_train, X_test, y_train, y_test = train_test_split(X_business, y_cat, test_size=0.1, random_state=42)\n",
    "print(min(y_train), max(y_train))"
   ]
  },
  {
   "cell_type": "markdown",
   "metadata": {},
   "source": [
    "### Logistic Regression"
   ]
  },
  {
   "cell_type": "code",
   "execution_count": 19,
   "metadata": {
    "scrolled": true
   },
   "outputs": [
    {
     "name": "stdout",
     "output_type": "stream",
     "text": [
      "Epoch 0:, loss: 507.600, accuracy: 0.081, f1: 0.081\n",
      "Epoch 50:, loss: 246.657, accuracy: 0.125, f1: 0.125\n",
      "Epoch 100:, loss: 140.591, accuracy: 0.151, f1: 0.151\n",
      "Epoch 150:, loss: 92.426, accuracy: 0.157, f1: 0.157\n",
      "Epoch 200:, loss: 47.118, accuracy: 0.171, f1: 0.171\n",
      "Epoch 250:, loss: 15.317, accuracy: 0.186, f1: 0.186\n",
      "Epoch 300:, loss: 7.104, accuracy: 0.201, f1: 0.201\n",
      "Epoch 350:, loss: 4.925, accuracy: 0.205, f1: 0.205\n",
      "Epoch 400:, loss: 3.433, accuracy: 0.218, f1: 0.218\n",
      "Epoch 450:, loss: 2.890, accuracy: 0.232, f1: 0.232\n",
      "Epoch 500:, loss: 2.590, accuracy: 0.235, f1: 0.235\n",
      "Epoch 550:, loss: 2.411, accuracy: 0.235, f1: 0.235\n",
      "Epoch 600:, loss: 2.296, accuracy: 0.237, f1: 0.237\n",
      "Epoch 650:, loss: 2.213, accuracy: 0.239, f1: 0.239\n",
      "Epoch 700:, loss: 2.147, accuracy: 0.241, f1: 0.241\n",
      "Epoch 750:, loss: 2.092, accuracy: 0.243, f1: 0.243\n",
      "Epoch 800:, loss: 2.044, accuracy: 0.245, f1: 0.245\n",
      "Epoch 850:, loss: 2.003, accuracy: 0.246, f1: 0.246\n",
      "Epoch 900:, loss: 1.969, accuracy: 0.248, f1: 0.248\n",
      "Epoch 950:, loss: 1.944, accuracy: 0.250, f1: 0.250\n"
     ]
    }
   ],
   "source": [
    "X_train_tensor = torch.from_numpy(np.array(X_train)).float()\n",
    "y_train_tensor = torch.from_numpy(np.array(y_train)).float().squeeze()\n",
    "losses_log_reg_9 = []\n",
    "accuracies_log_reg_9 = []\n",
    "D_in = 24\n",
    "D_out = 9\n",
    "num_epochs = 1000\n",
    "epochs = [i for i in range(num_epochs)]\n",
    "model = torch.nn.Sequential(torch.nn.Linear(D_in, D_out))\n",
    "loss_fn = cross_entropy_loss = nn.CrossEntropyLoss()\n",
    "learning_rate = 0.001\n",
    "optimizer = torch.optim.Adam(model.parameters(), lr=learning_rate)\n",
    "for epoch in range(num_epochs):\n",
    "    y_pred = model(X_train_tensor)\n",
    "    loss = loss_fn(y_pred, y_train_tensor.long())\n",
    "    pred = torch.max(y_pred, 1)[1].float()\n",
    "    accuracy = (pred == y_train_tensor).float().mean()\n",
    "    losses_log_reg_9.append(loss.item())\n",
    "    accuracies_log_reg_9.append(accuracy)\n",
    "    f1 = f1_score(y_train, pred, average=\"micro\")\n",
    "    if epoch % 50 == 0:\n",
    "        print(\"Epoch {}:, loss: {:.3f}, accuracy: {:.3f}, f1: {:.3f}\".format(epoch, loss.item(), accuracy, f1))\n",
    "    optimizer.zero_grad()\n",
    "    loss.backward()\n",
    "    optimizer.step()"
   ]
  },
  {
   "cell_type": "code",
   "execution_count": 20,
   "metadata": {},
   "outputs": [
    {
     "name": "stdout",
     "output_type": "stream",
     "text": [
      "('Accuracy on the test set: ', tensor(0.2541))\n"
     ]
    }
   ],
   "source": [
    "X_test_tensor = torch.from_numpy(np.array(X_test)).float()\n",
    "y_test_tensor = torch.from_numpy(np.array(y_test)).float().squeeze()\n",
    "y_pred = model(X_test_tensor)\n",
    "pred = torch.max(y_pred, 1)[1].float()\n",
    "accuracy = (pred == y_test_tensor).float().mean()\n",
    "print(\"Accuracy on the test set: \", accuracy)"
   ]
  },
  {
   "cell_type": "code",
   "execution_count": 21,
   "metadata": {},
   "outputs": [
    {
     "data": {
      "image/png": "[encoded data removed]",
      "text/plain": [
       "<Figure size 432x288 with 1 Axes>"
      ]
     },
     "metadata": {
      "needs_background": "light"
     },
     "output_type": "display_data"
    }
   ],
   "source": [
    "plt.plot(epochs, losses_log_reg_9, 'b', label=\"train loss\");\n",
    "plt.legend(loc='upper left');\n",
    "plt.ylabel(\"Loss\");\n",
    "plt.xlabel(\"Num epochs\");"
   ]
  },
  {
   "cell_type": "code",
   "execution_count": 22,
   "metadata": {},
   "outputs": [
    {
     "data": {
      "image/png": "[encoded data removed]",
      "text/plain": [
       "<Figure size 432x288 with 1 Axes>"
      ]
     },
     "metadata": {
      "needs_background": "light"
     },
     "output_type": "display_data"
    }
   ],
   "source": [
    "plt.plot(epochs, accuracies_log_reg_9, 'r', label=\"train accuracy\");\n",
    "plt.legend(loc='upper left');\n",
    "plt.ylabel(\"Accuracy\");\n",
    "plt.xlabel(\"Num epochs\");"
   ]
  },
  {
   "cell_type": "markdown",
   "metadata": {},
   "source": [
    "### Getting user features"
   ]
  },
  {
   "cell_type": "code",
   "execution_count": 23,
   "metadata": {},
   "outputs": [],
   "source": [
    "X_users = []\n",
    "users_mappings = {}\n",
    "with open('yelp_academic_dataset_user.json', 'r') as f:\n",
    "    for i, line in enumerate(f):\n",
    "        feature_vector = []\n",
    "        d = json.loads(line)\n",
    "        user_id = d['user_id'].encode('utf-8') \n",
    "        feature_vector.append(int(d['useful']))\n",
    "        feature_vector.append(int(d['funny']))\n",
    "        feature_vector.append(int(d['cool']))\n",
    "        feature_vector.append(int(d['fans']))\n",
    "        feature_vector.append(int(d['average_stars']))\n",
    "        feature_vector.append(int(d['compliment_hot']))\n",
    "        feature_vector.append(int(d['compliment_more']))\n",
    "        feature_vector.append(int(d['compliment_profile']))\n",
    "        feature_vector.append(int(d['compliment_cute']))\n",
    "        feature_vector.append(int(d['compliment_list']))\n",
    "        feature_vector.append(int(d['compliment_note']))\n",
    "        feature_vector.append(int(d['compliment_plain']))\n",
    "        feature_vector.append(int(d['compliment_cool']))\n",
    "        feature_vector.append(int(d['compliment_funny']))\n",
    "        feature_vector.append(int(d['compliment_writer']))\n",
    "        feature_vector.append(int(d['compliment_photos']))\n",
    "        X_users.append(feature_vector)\n",
    "        users_mappings[user_id] = i"
   ]
  },
  {
   "cell_type": "markdown",
   "metadata": {},
   "source": [
    "### Creating the adjacency matrix"
   ]
  },
  {
   "cell_type": "code",
   "execution_count": 24,
   "metadata": {},
   "outputs": [],
   "source": [
    "business_to_user = {}\n",
    "\n",
    "with open('yelp_academic_dataset_review.json', 'r') as f:\n",
    "    for i, line in enumerate(f):\n",
    "        d = json.loads(line)\n",
    "        user_id = d['user_id'].encode('utf-8') \n",
    "        business_id = d['business_id'].encode('utf-8') \n",
    "        stars = int(d['stars'])\n",
    "        if business_id in business_to_user:\n",
    "            business_to_user[business_id].append((user_id, stars))\n",
    "        else:\n",
    "            business_to_user[business_id] = [(user_id, stars)]"
   ]
  },
  {
   "cell_type": "markdown",
   "metadata": {},
   "source": [
    "### Define the aggregators"
   ]
  },
  {
   "cell_type": "code",
   "execution_count": 43,
   "metadata": {},
   "outputs": [],
   "source": [
    "class Aggregator(nn.Module):\n",
    "    def __init__(self, features_business, features_users): \n",
    "        super(Aggregator, self).__init__()\n",
    "        self.features_business = features_business\n",
    "        self.features_users = features_users\n",
    "        \n",
    "    def forward(self, nodes, neighbors):\n",
    "        all_users = list(set.union(*neighbors))\n",
    "        all_users_reindexed = {user:idx for idx,user in enumerate(all_users)}\n",
    "        num_unique_users = len(all_users)\n",
    "        num_businesses = len(neighbors)\n",
    "        \n",
    "        local_adj_m = Variable(torch.zeros(num_businesses, num_unique_users))\n",
    "        column_indices = [all_users_reindexed[n] for neighborhood in neighbors for n in neighborhood]   \n",
    "        row_indices = [business for business in range(num_businesses) for user in range(len(neighbors[business]))]\n",
    "        local_adj_m[row_indices, column_indices] = 1\n",
    "        neighbors_sum = local_adj_m.sum(1, keepdim=True) + 1e-7\n",
    "        local_adj_m = local_adj_m.div(neighbors_sum)\n",
    "        neighborhood_embeddings = self.features_users(torch.LongTensor(all_users))\n",
    "        neighborhood_aggregation = local_adj_m.mm(neighborhood_embeddings)\n",
    "        return neighborhood_aggregation"
   ]
  },
  {
   "cell_type": "markdown",
   "metadata": {},
   "source": [
    "### Define the encoders"
   ]
  },
  {
   "cell_type": "code",
   "execution_count": 26,
   "metadata": {},
   "outputs": [],
   "source": [
    "class Encoder(nn.Module):\n",
    "    def __init__(self, features_business, features_users, feat_dim_users, feat_dim_business,\n",
    "            embed_dim, adj_lists, aggregator): \n",
    "        super(Encoder, self).__init__()\n",
    "\n",
    "        self.features_business = features_business\n",
    "        self.features_users = features_users\n",
    "        self.feat_dim_users = feat_dim_users\n",
    "        self.feat_dim_business = feat_dim_business\n",
    "        self.adj_lists = adj_lists\n",
    "        self.aggregator = aggregator\n",
    "        self.embed_dim = embed_dim\n",
    "        self.weight = nn.Parameter(\n",
    "                torch.FloatTensor(embed_dim, self.feat_dim_users + self.feat_dim_business))\n",
    "        init.xavier_uniform(self.weight)\n",
    "\n",
    "    def forward(self, nodes):\n",
    "        neigh_feats = self.aggregator.forward(nodes, [self.adj_lists[int(node)] for node in nodes])\n",
    "        self_feats = self.features_business(torch.LongTensor(nodes))\n",
    "        combined = torch.cat([self_feats, neigh_feats], dim=1)\n",
    "        combined = F.relu(self.weight.mm(combined.t()))\n",
    "        return combined"
   ]
  },
  {
   "cell_type": "markdown",
   "metadata": {},
   "source": [
    "### GCN Model"
   ]
  },
  {
   "cell_type": "code",
   "execution_count": 47,
   "metadata": {},
   "outputs": [],
   "source": [
    "class GCN(nn.Module):\n",
    "\n",
    "    def __init__(self, features_business, features_users, adj_lists, num_classes):\n",
    "        super(GCN, self).__init__()\n",
    "        self.num_classes = num_classes\n",
    "        self.feat_dim_users = 16\n",
    "        self.feat_dim_business = 24\n",
    "        self.embed_dim = 128\n",
    "        self.aggregator = Aggregator(features_business, features_users)\n",
    "        self.encoder = Encoder(features_business, features_users, self.feat_dim_users, self.feat_dim_business, self.embed_dim, adj_lists, self.aggregator)\n",
    "        self.loss_fn = nn.CrossEntropyLoss()\n",
    "        self.weight = nn.Parameter(torch.FloatTensor(self.num_classes, self.encoder.embed_dim))\n",
    "        init.xavier_uniform(self.weight)\n",
    "\n",
    "    def forward(self, nodes):\n",
    "        node_embs = self.encoder(nodes)\n",
    "        scores = self.weight.mm(node_embs)\n",
    "        return scores.t()\n",
    "\n",
    "    def loss(self, pred, labels):\n",
    "        return self.loss_fn(pred, labels)"
   ]
  },
  {
   "cell_type": "markdown",
   "metadata": {},
   "source": [
    "### Setup for training loop"
   ]
  },
  {
   "cell_type": "code",
   "execution_count": 28,
   "metadata": {},
   "outputs": [
    {
     "name": "stdout",
     "output_type": "stream",
     "text": [
      "torch.Size([146526, 24])\n",
      "torch.Size([1518169, 16])\n",
      "torch.Size([146526])\n",
      "('Feature dimension business: ', 24)\n",
      "('Feature dimension users: ', 16)\n",
      "(tensor(0.), tensor(8.))\n"
     ]
    }
   ],
   "source": [
    "X_business = torch.from_numpy(np.array(X_train)).float()\n",
    "y_business = torch.from_numpy(np.array(y_train)).float().squeeze()\n",
    "X_users = torch.from_numpy(np.array(X_users)).float()\n",
    "print(X_business.shape)\n",
    "print(X_users.shape)\n",
    "print(y_business.shape)\n",
    "print(\"Feature dimension business: \" , len(X_train[0]))\n",
    "print(\"Feature dimension users: \" , len(X_users[0]))\n",
    "print(torch.min(y_business), torch.max(y_business))"
   ]
  },
  {
   "cell_type": "code",
   "execution_count": 29,
   "metadata": {},
   "outputs": [],
   "source": [
    "def normalize(x):\n",
    "    x_normed = x / (x.max(0, keepdim=True)[0] + 1e-7)\n",
    "    return x_normed"
   ]
  },
  {
   "cell_type": "code",
   "execution_count": 30,
   "metadata": {},
   "outputs": [],
   "source": [
    "X_business_normalized = normalize(X_business)\n",
    "X_users_normalized = normalize(X_users)"
   ]
  },
  {
   "cell_type": "code",
   "execution_count": 33,
   "metadata": {},
   "outputs": [
    {
     "name": "stdout",
     "output_type": "stream",
     "text": [
      "162807\n"
     ]
    }
   ],
   "source": [
    "f1_scores = []\n",
    "np.random.seed(1)\n",
    "random.seed(1)\n",
    "num_businesses = len(X_train)\n",
    "num_users = len(X_users)\n",
    "adj_lists = {}\n",
    "feat_dim_business = len(X_train[0])\n",
    "feat_dim_users = len(X_users[0])\n",
    "\n",
    "for business_id, users_rev in business_to_user.iteritems():\n",
    "    if business_id in business_mappings:\n",
    "        adj_lists[business_mappings[business_id]] = set([users_mappings[k[0]] for k in users_rev if k[1] > 3])\n",
    "print(len(adj_lists))\n",
    "\n",
    "features_business = nn.Embedding(num_businesses, feat_dim_business)\n",
    "features_business.weight = nn.Parameter(X_business_normalized, requires_grad=False)\n",
    "    \n",
    "features_users = nn.Embedding(num_users, feat_dim_users)\n",
    "features_users.weight = nn.Parameter(X_users_normalized, requires_grad=False)\n",
    "\n",
    "rand_indices = np.random.permutation(num_businesses)\n",
    "num_train = int(num_businesses * 0.9)\n",
    "train = list(rand_indices[:num_train])\n",
    "val = list(rand_indices[num_train:])"
   ]
  },
  {
   "cell_type": "markdown",
   "metadata": {},
   "source": [
    "### Main train loop"
   ]
  },
  {
   "cell_type": "code",
   "execution_count": 57,
   "metadata": {},
   "outputs": [
    {
     "name": "stderr",
     "output_type": "stream",
     "text": [
      "/anaconda2/lib/python2.7/site-packages/ipykernel_launcher.py:15: UserWarning: nn.init.xavier_uniform is now deprecated in favor of nn.init.xavier_uniform_.\n",
      "  from ipykernel import kernelapp as app\n",
      "/anaconda2/lib/python2.7/site-packages/ipykernel_launcher.py:13: UserWarning: nn.init.xavier_uniform is now deprecated in favor of nn.init.xavier_uniform_.\n",
      "  del sys.path[0]\n"
     ]
    },
    {
     "name": "stdout",
     "output_type": "stream",
     "text": [
      "('Epoch:', 0, 'Loss: ', 1.9595418209210038, 'Batch time: ', 0.19217705726623535, 'Train accuracy: ', 0.23342132568359375)\n",
      "('Epoch:', 1, 'Loss: ', 1.9112467635422945, 'Batch time: ', 0.21561884880065918, 'Train accuracy: ', 0.24849700927734375)\n",
      "('Epoch:', 2, 'Loss: ', 1.9026440903544426, 'Batch time: ', 0.2077009677886963, 'Train accuracy: ', 0.25183868408203125)\n",
      "('Epoch:', 3, 'Loss: ', 1.8971605654805899, 'Batch time: ', 0.23282313346862793, 'Train accuracy: ', 0.25460052490234375)\n",
      "('Epoch:', 4, 'Loss: ', 1.8932573674246669, 'Batch time: ', 0.18024802207946777, 'Train accuracy: ', 0.25647735595703125)\n",
      "('Epoch:', 5, 'Loss: ', 1.8902890253812075, 'Batch time: ', 0.19292807579040527, 'Train accuracy: ', 0.25731658935546875)\n",
      "('Epoch:', 6, 'Loss: ', 1.8879226427525282, 'Batch time: ', 0.19065594673156738, 'Train accuracy: ', 0.25809478759765625)\n",
      "('Epoch:', 7, 'Loss: ', 1.8859784193336964, 'Batch time: ', 0.20186901092529297, 'Train accuracy: ', 0.25936126708984375)\n",
      "('Epoch:', 8, 'Loss: ', 1.884324150159955, 'Batch time: ', 0.19282793998718262, 'Train accuracy: ', 0.260406494140625)\n",
      "('Epoch:', 9, 'Loss: ', 1.8828844474628568, 'Batch time: ', 0.18767786026000977, 'Train accuracy: ', 0.260711669921875)\n",
      "('Epoch:', 10, 'Loss: ', 1.881626001559198, 'Batch time: ', 0.20719218254089355, 'Train accuracy: ', 0.26119232177734375)\n",
      "('Epoch:', 11, 'Loss: ', 1.880528955720365, 'Batch time: ', 0.18770718574523926, 'Train accuracy: ', 0.2615814208984375)\n",
      "('Epoch:', 12, 'Loss: ', 1.879554372280836, 'Batch time: ', 0.1947801113128662, 'Train accuracy: ', 0.26201629638671875)\n",
      "('Epoch:', 13, 'Loss: ', 1.8786887042224407, 'Batch time: ', 0.21981096267700195, 'Train accuracy: ', 0.26226806640625)\n",
      "('Epoch:', 14, 'Loss: ', 1.87791464664042, 'Batch time: ', 0.2062220573425293, 'Train accuracy: ', 0.26264190673828125)\n",
      "('Epoch:', 15, 'Loss: ', 1.8772110100835562, 'Batch time: ', 0.20101499557495117, 'Train accuracy: ', 0.2631378173828125)\n",
      "('Epoch:', 16, 'Loss: ', 1.8765667360275984, 'Batch time: ', 0.20048809051513672, 'Train accuracy: ', 0.2635040283203125)\n",
      "('Epoch:', 17, 'Loss: ', 1.8759763725101948, 'Batch time: ', 0.1880359649658203, 'Train accuracy: ', 0.26372528076171875)\n",
      "('Epoch:', 18, 'Loss: ', 1.8754290537908673, 'Batch time: ', 0.20704889297485352, 'Train accuracy: ', 0.264129638671875)\n",
      "('Epoch:', 19, 'Loss: ', 1.8749225679785013, 'Batch time: ', 0.2586989402770996, 'Train accuracy: ', 0.2642059326171875)\n",
      "('Epoch:', 20, 'Loss: ', 1.874453604221344, 'Batch time: ', 0.18541598320007324, 'Train accuracy: ', 0.26450347900390625)\n",
      "('Epoch:', 21, 'Loss: ', 1.8740158500149846, 'Batch time: ', 0.35228800773620605, 'Train accuracy: ', 0.26482391357421875)\n",
      "('Epoch:', 22, 'Loss: ', 1.8736054748296738, 'Batch time: ', 0.18817687034606934, 'Train accuracy: ', 0.2652130126953125)\n",
      "('Epoch:', 23, 'Loss: ', 1.8732172464951873, 'Batch time: ', 0.19663095474243164, 'Train accuracy: ', 0.265289306640625)\n",
      "('Epoch:', 24, 'Loss: ', 1.8728496115654707, 'Batch time: ', 0.19629716873168945, 'Train accuracy: ', 0.26551055908203125)\n",
      "('Epoch:', 25, 'Loss: ', 1.8725036093965173, 'Batch time: ', 0.1712050437927246, 'Train accuracy: ', 0.2658538818359375)\n",
      "('Epoch:', 26, 'Loss: ', 1.8721741000190377, 'Batch time: ', 0.2005460262298584, 'Train accuracy: ', 0.26604461669921875)\n",
      "('Epoch:', 27, 'Loss: ', 1.8718621842563152, 'Batch time: ', 0.19735002517700195, 'Train accuracy: ', 0.26607513427734375)\n",
      "('Epoch:', 28, 'Loss: ', 1.8715649507939816, 'Batch time: ', 0.18105506896972656, 'Train accuracy: ', 0.266082763671875)\n",
      "('Epoch:', 29, 'Loss: ', 1.8712805891409516, 'Batch time: ', 0.22596287727355957, 'Train accuracy: ', 0.266387939453125)\n",
      "('Epoch:', 30, 'Loss: ', 1.871008169837296, 'Batch time: ', 0.1986839771270752, 'Train accuracy: ', 0.26641082763671875)\n",
      "('Epoch:', 31, 'Loss: ', 1.8707456951960921, 'Batch time: ', 0.24226784706115723, 'Train accuracy: ', 0.266510009765625)\n",
      "('Epoch:', 32, 'Loss: ', 1.8704926623031497, 'Batch time: ', 0.2603330612182617, 'Train accuracy: ', 0.2666168212890625)\n",
      "('Epoch:', 33, 'Loss: ', 1.8702534642070532, 'Batch time: ', 0.2186450958251953, 'Train accuracy: ', 0.26668548583984375)\n",
      "('Epoch:', 34, 'Loss: ', 1.8700243532657623, 'Batch time: ', 0.22753286361694336, 'Train accuracy: ', 0.266815185546875)\n",
      "('Epoch:', 35, 'Loss: ', 1.8698056023567915, 'Batch time: ', 0.2014460563659668, 'Train accuracy: ', 0.266754150390625)\n",
      "('Epoch:', 36, 'Loss: ', 1.8695950154215097, 'Batch time: ', 0.20644712448120117, 'Train accuracy: ', 0.2667999267578125)\n",
      "('Epoch:', 37, 'Loss: ', 1.8693922646343708, 'Batch time: ', 0.21658992767333984, 'Train accuracy: ', 0.266876220703125)\n",
      "('Epoch:', 38, 'Loss: ', 1.8691961644217372, 'Batch time: ', 0.21575188636779785, 'Train accuracy: ', 0.26694488525390625)\n",
      "('Epoch:', 39, 'Loss: ', 1.8690053476020694, 'Batch time: ', 0.21568512916564941, 'Train accuracy: ', 0.26711273193359375)\n",
      "('Epoch:', 40, 'Loss: ', 1.8688190579414368, 'Batch time: ', 0.20568013191223145, 'Train accuracy: ', 0.267242431640625)\n",
      "('Epoch:', 41, 'Loss: ', 1.8686380740255117, 'Batch time: ', 0.18963885307312012, 'Train accuracy: ', 0.2673187255859375)\n",
      "('Epoch:', 42, 'Loss: ', 1.8684610174968839, 'Batch time: ', 0.1872849464416504, 'Train accuracy: ', 0.267364501953125)\n",
      "('Epoch:', 43, 'Loss: ', 1.8682870864868164, 'Batch time: ', 0.2076091766357422, 'Train accuracy: ', 0.26737213134765625)\n",
      "('Epoch:', 44, 'Loss: ', 1.868116487748921, 'Batch time: ', 0.2162461280822754, 'Train accuracy: ', 0.26743316650390625)\n",
      "('Epoch:', 45, 'Loss: ', 1.8679504776373506, 'Batch time: ', 0.20139503479003906, 'Train accuracy: ', 0.26734161376953125)\n",
      "('Epoch:', 46, 'Loss: ', 1.8677880987524986, 'Batch time: ', 0.24139809608459473, 'Train accuracy: ', 0.26740264892578125)\n",
      "('Epoch:', 47, 'Loss: ', 1.8676285315304995, 'Batch time: ', 0.18634319305419922, 'Train accuracy: ', 0.26738739013671875)\n",
      "('Epoch:', 48, 'Loss: ', 1.8674729522317648, 'Batch time: ', 0.20087504386901855, 'Train accuracy: ', 0.26740264892578125)\n",
      "('Epoch:', 49, 'Loss: ', 1.867319531738758, 'Batch time: ', 0.23028087615966797, 'Train accuracy: ', 0.2675628662109375)\n"
     ]
    }
   ],
   "source": [
    "gcn = GCN(features_business, features_users, adj_lists, num_classes=9)\n",
    "lossess_gcn_09 = []\n",
    "accuracies_gcn_09 = []\n",
    "epoch_lossess_gcn_09 = []\n",
    "optimizer = torch.optim.SGD(filter(lambda p : p.requires_grad, gcn.parameters()), lr=0.1)\n",
    "labels = np.array(y_train)\n",
    "y_train_tensor = torch.LongTensor(labels)\n",
    "for i in range(50):\n",
    "    #print(\"Epoch: \", i)\n",
    "    num_correct = 0\n",
    "    num_total = 0\n",
    "    loss_sum = []\n",
    "    for batch in range(8*16):\n",
    "        start_time = time.time()\n",
    "        batch_nodes = train[1024*batch:1024*(batch+1)]\n",
    "        optimizer.zero_grad()\n",
    "        y_pred = gcn(batch_nodes)\n",
    "        loss = gcn.loss(y_pred, y_train_tensor[batch_nodes])\n",
    "        lossess_gcn_09.append(loss.item())\n",
    "        loss.backward()\n",
    "        optimizer.step()\n",
    "        end_time = time.time()\n",
    "        batch_time = end_time - start_time\n",
    "        #if batch % 50 == 0:\n",
    "        pred = torch.max(y_pred, 1)[1].float()\n",
    "        num_correct += (pred == y_train_tensor[batch_nodes].float()).sum().item()\n",
    "        num_total += len(batch_nodes)\n",
    "        loss_sum.append(loss.item())\n",
    "    acc = (num_correct*1.0) / num_total\n",
    "    avg_loss = np.mean(loss_sum)\n",
    "    epoch_lossess_gcn_09.append(avg_loss)\n",
    "    accuracies_gcn_09.append(acc)\n",
    "    print(\"Epoch:\", i, \"Loss: \", avg_loss, \"Batch time: \", batch_time, \"Train accuracy: \", acc)"
   ]
  },
  {
   "cell_type": "code",
   "execution_count": 51,
   "metadata": {},
   "outputs": [
    {
     "name": "stdout",
     "output_type": "stream",
     "text": [
      "('Num train datapoints: ', 131873)\n",
      "('Num val datapoints: ', 14653)\n"
     ]
    }
   ],
   "source": [
    "print(\"Num train datapoints: \", len(train))\n",
    "print(\"Num val datapoints: \", len(val))"
   ]
  },
  {
   "cell_type": "code",
   "execution_count": 54,
   "metadata": {},
   "outputs": [
    {
     "data": {
      "image/png": "[encoded data removed]",
      "text/plain": [
       "<Figure size 432x288 with 1 Axes>"
      ]
     },
     "metadata": {
      "needs_background": "light"
     },
     "output_type": "display_data"
    }
   ],
   "source": [
    "epochs = [i for i in range(7936)]\n",
    "plt.plot(epochs, lossess_gcn_09, 'b', label=\"train loss\");\n",
    "plt.legend(loc='upper left');\n",
    "plt.ylabel(\"Loss\");\n",
    "plt.xlabel(\"Num iterations\");"
   ]
  },
  {
   "cell_type": "code",
   "execution_count": 56,
   "metadata": {},
   "outputs": [
    {
     "data": {
      "image/png": "[encoded data removed]",
      "text/plain": [
       "<Figure size 432x288 with 1 Axes>"
      ]
     },
     "metadata": {
      "needs_background": "light"
     },
     "output_type": "display_data"
    }
   ],
   "source": [
    "epochs = [i for i in range(62)]\n",
    "plt.plot(epochs, accuracies_gcn_09, 'b', label=\"train accuracy\");\n",
    "plt.legend(loc='upper left');\n",
    "plt.ylabel(\"Accuracy\");\n",
    "plt.xlabel(\"Num epochs\");"
   ]
  },
  {
   "cell_type": "code",
   "execution_count": 59,
   "metadata": {},
   "outputs": [
    {
     "data": {
      "image/png": "[encoded data removed]",
      "text/plain": [
       "<Figure size 432x288 with 1 Axes>"
      ]
     },
     "metadata": {
      "needs_background": "light"
     },
     "output_type": "display_data"
    }
   ],
   "source": [
    "epochs = [i for i in range(50)]\n",
    "plt.plot(epochs, epoch_lossess_gcn_09, 'b', label=\"train losses\");\n",
    "plt.legend(loc='upper left');\n",
    "plt.ylabel(\"Loss\");\n",
    "plt.xlabel(\"Num epochs\");"
   ]
  },
  {
   "cell_type": "code",
   "execution_count": 60,
   "metadata": {},
   "outputs": [
    {
     "name": "stdout",
     "output_type": "stream",
     "text": [
      "('Accuracy on the test set: ', tensor(0.2541))\n"
     ]
    }
   ],
   "source": [
    "X_test_tensor = torch.from_numpy(np.array(X_test)).float()\n",
    "y_test_tensor = torch.from_numpy(np.array(y_test)).float().squeeze()\n",
    "y_pred = model(X_test_tensor)\n",
    "pred = torch.max(y_pred, 1)[1].float()\n",
    "accuracy = (pred == y_test_tensor).float().mean()\n",
    "print(\"Accuracy on the test set: \", accuracy)"
   ]
  },
  {
   "cell_type": "markdown",
   "metadata": {},
   "source": [
    "## Trying with only 5 classes"
   ]
  },
  {
   "cell_type": "code",
   "execution_count": 64,
   "metadata": {},
   "outputs": [
    {
     "name": "stdout",
     "output_type": "stream",
     "text": [
      "162807\n",
      "set([1, 2, 3, 4, 5])\n",
      "(0, 4)\n"
     ]
    }
   ],
   "source": [
    "X_business = []\n",
    "y_business = []\n",
    "print(len(stars))\n",
    "business_mappings = {}\n",
    "i = 0\n",
    "for business_id, rating in stars.iteritems():\n",
    "    business_mappings[business_id] = i\n",
    "    X_business.append(get_feature_vector(business_id))\n",
    "    y_business.append(int(rating))\n",
    "    i += 1\n",
    "y_cat = []\n",
    "print(set(y_business))\n",
    "sorted_y = sorted(set(y_business))\n",
    "for val in y_business:\n",
    "    y_cat.append(sorted_y.index(val))\n",
    "print(min(y_cat), max(y_cat))"
   ]
  },
  {
   "cell_type": "code",
   "execution_count": 65,
   "metadata": {},
   "outputs": [],
   "source": [
    "X_train, X_test, y_train, y_test = train_test_split(X_business, y_cat, test_size=0.1, random_state=42)"
   ]
  },
  {
   "cell_type": "markdown",
   "metadata": {},
   "source": [
    "### Logistic Regression"
   ]
  },
  {
   "cell_type": "code",
   "execution_count": 66,
   "metadata": {},
   "outputs": [],
   "source": [
    "def logistic_regression(num_epochs = 1000):\n",
    "    X_train_tensor = torch.from_numpy(np.array(X_train)).float()\n",
    "    y_train_tensor = torch.from_numpy(np.array(y_train)).float().squeeze()\n",
    "    losses = []\n",
    "    accuracies = []\n",
    "    D_in = 24\n",
    "    D_out = 5\n",
    "    epochs = [i for i in range(num_epochs)]\n",
    "    model = torch.nn.Sequential(torch.nn.Linear(D_in, D_out))\n",
    "    loss_fn = cross_entropy_loss = nn.CrossEntropyLoss()\n",
    "    learning_rate = 0.001\n",
    "    optimizer = torch.optim.Adam(model.parameters(), lr=learning_rate)\n",
    "    for epoch in range(num_epochs):\n",
    "        y_pred = model(X_train_tensor)\n",
    "        loss = loss_fn(y_pred, y_train_tensor.long())\n",
    "        pred = torch.max(y_pred, 1)[1].float()\n",
    "        accuracy = (pred == y_train_tensor).float().mean()\n",
    "        losses.append(loss.item())\n",
    "        accuracies.append(accuracy)\n",
    "        f1 = f1_score(y_train, pred, average=\"micro\")\n",
    "        if epoch % 50 == 0:\n",
    "            print(\"Epoch {}:, loss: {:.3f}, accuracy: {:.3f}, f1: {:.3f}\".format(epoch, loss.item(), accuracy, f1))\n",
    "        optimizer.zero_grad()\n",
    "        loss.backward()\n",
    "        optimizer.step()\n",
    "    return model, epochs, losses, accuracies"
   ]
  },
  {
   "cell_type": "code",
   "execution_count": 69,
   "metadata": {},
   "outputs": [
    {
     "name": "stdout",
     "output_type": "stream",
     "text": [
      "Epoch 0:, loss: 338.441, accuracy: 0.295, f1: 0.295\n",
      "Epoch 50:, loss: 176.477, accuracy: 0.203, f1: 0.203\n",
      "Epoch 100:, loss: 67.971, accuracy: 0.272, f1: 0.272\n",
      "Epoch 150:, loss: 12.713, accuracy: 0.339, f1: 0.339\n",
      "Epoch 200:, loss: 6.516, accuracy: 0.329, f1: 0.329\n",
      "Epoch 250:, loss: 4.008, accuracy: 0.340, f1: 0.340\n",
      "Epoch 300:, loss: 2.596, accuracy: 0.352, f1: 0.352\n",
      "Epoch 350:, loss: 1.979, accuracy: 0.352, f1: 0.352\n",
      "Epoch 400:, loss: 1.655, accuracy: 0.346, f1: 0.346\n",
      "Epoch 450:, loss: 1.473, accuracy: 0.352, f1: 0.352\n",
      "Epoch 500:, loss: 1.426, accuracy: 0.356, f1: 0.356\n",
      "Epoch 550:, loss: 1.412, accuracy: 0.359, f1: 0.359\n",
      "Epoch 600:, loss: 1.403, accuracy: 0.361, f1: 0.361\n",
      "Epoch 650:, loss: 1.395, accuracy: 0.365, f1: 0.365\n",
      "Epoch 700:, loss: 1.388, accuracy: 0.368, f1: 0.368\n",
      "Epoch 750:, loss: 1.381, accuracy: 0.371, f1: 0.371\n",
      "Epoch 800:, loss: 1.375, accuracy: 0.374, f1: 0.374\n",
      "Epoch 850:, loss: 1.369, accuracy: 0.378, f1: 0.378\n",
      "Epoch 900:, loss: 1.363, accuracy: 0.381, f1: 0.381\n",
      "Epoch 950:, loss: 1.358, accuracy: 0.383, f1: 0.383\n",
      "('Accuracy on the test set: ', tensor(0.3912))\n"
     ]
    }
   ],
   "source": [
    "model_log_reg5 = logistic_regression(1000)\n",
    "X_test_tensor = torch.from_numpy(np.array(X_test)).float()\n",
    "y_test_tensor = torch.from_numpy(np.array(y_test)).float().squeeze()\n",
    "y_pred = model_log_reg(X_test_tensor)\n",
    "pred = torch.max(y_pred, 1)[1].float()\n",
    "accuracy = (pred == y_test_tensor).float().mean()\n",
    "print(\"Accuracy on the test set: \", accuracy)"
   ]
  },
  {
   "cell_type": "code",
   "execution_count": 71,
   "metadata": {},
   "outputs": [],
   "source": [
    "def linear_regression(num_epochs = 1000):\n",
    "    X_train_tensor = torch.from_numpy(np.array(X_train)).float()\n",
    "    y_train_tensor = torch.from_numpy(np.array(y_train)).float().unsqueeze(1)\n",
    "    losses = []\n",
    "    accuracies = []\n",
    "    D_in = 24\n",
    "    D_out = 1\n",
    "    epochs = [i for i in range(num_epochs)]\n",
    "    model = torch.nn.Sequential(torch.nn.Linear(D_in, D_out))\n",
    "    loss_fn = nn.MSELoss()\n",
    "    learning_rate = 0.01\n",
    "    optimizer = torch.optim.Adam(model.parameters(), lr=learning_rate)\n",
    "    for epoch in range(num_epochs):\n",
    "        y_pred = model(X_train_tensor)\n",
    "        loss = loss_fn(y_pred, y_train_tensor)\n",
    "        pred = torch.round(y_pred * 2)/2\n",
    "        accuracy = (pred == y_train_tensor).float().mean()\n",
    "        losses.append(loss.item())\n",
    "        accuracies.append(accuracy)\n",
    "        #f1 = f1_score(y_train, pred, average=\"micro\")\n",
    "        if epoch % 200 == 0:\n",
    "            print(\"Epoch {}:, loss: {:.3f}, accuracy: {:.3f}\".format(epoch, loss.item(), accuracy))\n",
    "        optimizer.zero_grad()\n",
    "        loss.backward()\n",
    "        optimizer.step()\n",
    "    return model"
   ]
  },
  {
   "cell_type": "code",
   "execution_count": 72,
   "metadata": {},
   "outputs": [
    {
     "name": "stdout",
     "output_type": "stream",
     "text": [
      "162807\n"
     ]
    }
   ],
   "source": [
    "X_business = []\n",
    "y_business = []\n",
    "print(len(stars))\n",
    "business_mappings = {}\n",
    "i = 0\n",
    "for business_id, rating in stars.iteritems():\n",
    "    business_mappings[business_id] = i\n",
    "    X_business.append(get_feature_vector(business_id))\n",
    "    y_business.append(rating)\n",
    "    i += 1"
   ]
  },
  {
   "cell_type": "code",
   "execution_count": 73,
   "metadata": {},
   "outputs": [],
   "source": [
    "X_train, X_test, y_train, y_test = train_test_split(X_business, y_business, test_size=0.1, random_state=42)"
   ]
  },
  {
   "cell_type": "code",
   "execution_count": 74,
   "metadata": {},
   "outputs": [
    {
     "name": "stdout",
     "output_type": "stream",
     "text": [
      "Epoch 0:, loss: 727611.250, accuracy: 0.000\n",
      "Epoch 200:, loss: 5.108, accuracy: 0.082\n",
      "Epoch 400:, loss: 1.916, accuracy: 0.136\n",
      "Epoch 600:, loss: 1.292, accuracy: 0.159\n",
      "Epoch 800:, loss: 1.148, accuracy: 0.172\n",
      "Epoch 1000:, loss: 1.087, accuracy: 0.179\n",
      "Epoch 1200:, loss: 1.054, accuracy: 0.182\n",
      "Epoch 1400:, loss: 1.035, accuracy: 0.184\n",
      "Epoch 1600:, loss: 1.022, accuracy: 0.185\n",
      "Epoch 1800:, loss: 1.011, accuracy: 0.186\n",
      "Epoch 2000:, loss: 1.000, accuracy: 0.186\n",
      "Epoch 2200:, loss: 0.990, accuracy: 0.188\n",
      "Epoch 2400:, loss: 0.981, accuracy: 0.189\n",
      "Epoch 2600:, loss: 0.971, accuracy: 0.190\n",
      "Epoch 2800:, loss: 0.963, accuracy: 0.191\n",
      "Epoch 3000:, loss: 0.954, accuracy: 0.192\n",
      "Epoch 3200:, loss: 0.947, accuracy: 0.193\n",
      "Epoch 3400:, loss: 0.940, accuracy: 0.194\n",
      "Epoch 3600:, loss: 0.933, accuracy: 0.194\n",
      "Epoch 3800:, loss: 0.928, accuracy: 0.195\n",
      "Epoch 4000:, loss: 0.923, accuracy: 0.196\n",
      "Epoch 4200:, loss: 0.918, accuracy: 0.196\n",
      "Epoch 4400:, loss: 0.915, accuracy: 0.197\n",
      "Epoch 4600:, loss: 0.912, accuracy: 0.197\n",
      "Epoch 4800:, loss: 0.910, accuracy: 0.198\n",
      "Epoch 5000:, loss: 0.908, accuracy: 0.198\n",
      "Epoch 5200:, loss: 0.906, accuracy: 0.199\n",
      "Epoch 5400:, loss: 0.905, accuracy: 0.199\n",
      "Epoch 5600:, loss: 0.904, accuracy: 0.199\n",
      "Epoch 5800:, loss: 0.904, accuracy: 0.200\n",
      "Epoch 6000:, loss: 0.903, accuracy: 0.200\n",
      "Epoch 6200:, loss: 0.903, accuracy: 0.200\n",
      "Epoch 6400:, loss: 0.902, accuracy: 0.200\n",
      "Epoch 6600:, loss: 0.902, accuracy: 0.200\n",
      "Epoch 6800:, loss: 0.902, accuracy: 0.200\n",
      "Epoch 7000:, loss: 0.901, accuracy: 0.200\n",
      "Epoch 7200:, loss: 0.901, accuracy: 0.200\n",
      "Epoch 7400:, loss: 0.901, accuracy: 0.200\n",
      "Epoch 7600:, loss: 0.901, accuracy: 0.200\n",
      "Epoch 7800:, loss: 19.686, accuracy: 0.116\n",
      "Epoch 8000:, loss: 0.900, accuracy: 0.200\n",
      "Epoch 8200:, loss: 3.297, accuracy: 0.149\n",
      "Epoch 8400:, loss: 0.899, accuracy: 0.200\n",
      "Epoch 8600:, loss: 0.914, accuracy: 0.193\n",
      "Epoch 8800:, loss: 0.899, accuracy: 0.200\n",
      "Epoch 9000:, loss: 1.497, accuracy: 0.167\n",
      "Epoch 9200:, loss: 0.898, accuracy: 0.200\n",
      "Epoch 9400:, loss: 1.209, accuracy: 0.180\n",
      "Epoch 9600:, loss: 0.898, accuracy: 0.200\n",
      "Epoch 9800:, loss: 0.912, accuracy: 0.203\n",
      "('Accuracy on the test set: ', tensor(0.0021))\n"
     ]
    }
   ],
   "source": [
    "lin_reg = linear_regression(10000)\n",
    "X_test_tensor = torch.from_numpy(np.array(X_test)).float()\n",
    "y_test_tensor = torch.from_numpy(np.array(y_test)).float().unsqueeze(1)\n",
    "y_pred = model(X_test_tensor)\n",
    "pred = torch.round(y_pred * 2)/2\n",
    "accuracy = (pred == y_test_tensor).float().mean()\n",
    "print(\"Accuracy on the test set: \", accuracy)"
   ]
  },
  {
   "cell_type": "code",
   "execution_count": 76,
   "metadata": {},
   "outputs": [
    {
     "name": "stderr",
     "output_type": "stream",
     "text": [
      "/anaconda2/lib/python2.7/site-packages/ipykernel_launcher.py:15: UserWarning: nn.init.xavier_uniform is now deprecated in favor of nn.init.xavier_uniform_.\n",
      "  from ipykernel import kernelapp as app\n",
      "/anaconda2/lib/python2.7/site-packages/ipykernel_launcher.py:13: UserWarning: nn.init.xavier_uniform is now deprecated in favor of nn.init.xavier_uniform_.\n",
      "  del sys.path[0]\n"
     ]
    },
    {
     "ename": "RuntimeError",
     "evalue": "Assertion `cur_target >= 0 && cur_target < n_classes' failed.  at /Users/soumith/code/builder/wheel/pytorch-src/aten/src/THNN/generic/ClassNLLCriterion.c:93",
     "output_type": "error",
     "traceback": [
      "\u001b[0;31m---------------------------------------------------------------------------\u001b[0m",
      "\u001b[0;31mRuntimeError\u001b[0m                              Traceback (most recent call last)",
      "\u001b[0;32m<ipython-input-76-5a73c4973687>\u001b[0m in \u001b[0;36m<module>\u001b[0;34m()\u001b[0m\n\u001b[1;32m     16\u001b[0m         \u001b[0moptimizer\u001b[0m\u001b[0;34m.\u001b[0m\u001b[0mzero_grad\u001b[0m\u001b[0;34m(\u001b[0m\u001b[0;34m)\u001b[0m\u001b[0;34m\u001b[0m\u001b[0m\n\u001b[1;32m     17\u001b[0m         \u001b[0my_pred\u001b[0m \u001b[0;34m=\u001b[0m \u001b[0mgcn\u001b[0m\u001b[0;34m(\u001b[0m\u001b[0mbatch_nodes\u001b[0m\u001b[0;34m)\u001b[0m\u001b[0;34m\u001b[0m\u001b[0m\n\u001b[0;32m---> 18\u001b[0;31m         \u001b[0mloss\u001b[0m \u001b[0;34m=\u001b[0m \u001b[0mgcn\u001b[0m\u001b[0;34m.\u001b[0m\u001b[0mloss\u001b[0m\u001b[0;34m(\u001b[0m\u001b[0my_pred\u001b[0m\u001b[0;34m,\u001b[0m \u001b[0my_train_tensor\u001b[0m\u001b[0;34m[\u001b[0m\u001b[0mbatch_nodes\u001b[0m\u001b[0;34m]\u001b[0m\u001b[0;34m)\u001b[0m\u001b[0;34m\u001b[0m\u001b[0m\n\u001b[0m\u001b[1;32m     19\u001b[0m         \u001b[0mlossessgd1\u001b[0m\u001b[0;34m.\u001b[0m\u001b[0mappend\u001b[0m\u001b[0;34m(\u001b[0m\u001b[0mloss\u001b[0m\u001b[0;34m.\u001b[0m\u001b[0mitem\u001b[0m\u001b[0;34m(\u001b[0m\u001b[0;34m)\u001b[0m\u001b[0;34m)\u001b[0m\u001b[0;34m\u001b[0m\u001b[0m\n\u001b[1;32m     20\u001b[0m         \u001b[0mloss\u001b[0m\u001b[0;34m.\u001b[0m\u001b[0mbackward\u001b[0m\u001b[0;34m(\u001b[0m\u001b[0;34m)\u001b[0m\u001b[0;34m\u001b[0m\u001b[0m\n",
      "\u001b[0;32m<ipython-input-47-eb71924f0a43>\u001b[0m in \u001b[0;36mloss\u001b[0;34m(self, pred, labels)\u001b[0m\n\u001b[1;32m     19\u001b[0m \u001b[0;34m\u001b[0m\u001b[0m\n\u001b[1;32m     20\u001b[0m     \u001b[0;32mdef\u001b[0m \u001b[0mloss\u001b[0m\u001b[0;34m(\u001b[0m\u001b[0mself\u001b[0m\u001b[0;34m,\u001b[0m \u001b[0mpred\u001b[0m\u001b[0;34m,\u001b[0m \u001b[0mlabels\u001b[0m\u001b[0;34m)\u001b[0m\u001b[0;34m:\u001b[0m\u001b[0;34m\u001b[0m\u001b[0m\n\u001b[0;32m---> 21\u001b[0;31m         \u001b[0;32mreturn\u001b[0m \u001b[0mself\u001b[0m\u001b[0;34m.\u001b[0m\u001b[0mloss_fn\u001b[0m\u001b[0;34m(\u001b[0m\u001b[0mpred\u001b[0m\u001b[0;34m,\u001b[0m \u001b[0mlabels\u001b[0m\u001b[0;34m)\u001b[0m\u001b[0;34m\u001b[0m\u001b[0m\n\u001b[0m",
      "\u001b[0;32m/anaconda2/lib/python2.7/site-packages/torch/nn/modules/module.pyc\u001b[0m in \u001b[0;36m__call__\u001b[0;34m(self, *input, **kwargs)\u001b[0m\n\u001b[1;32m    475\u001b[0m             \u001b[0mresult\u001b[0m \u001b[0;34m=\u001b[0m \u001b[0mself\u001b[0m\u001b[0;34m.\u001b[0m\u001b[0m_slow_forward\u001b[0m\u001b[0;34m(\u001b[0m\u001b[0;34m*\u001b[0m\u001b[0minput\u001b[0m\u001b[0;34m,\u001b[0m \u001b[0;34m**\u001b[0m\u001b[0mkwargs\u001b[0m\u001b[0;34m)\u001b[0m\u001b[0;34m\u001b[0m\u001b[0m\n\u001b[1;32m    476\u001b[0m         \u001b[0;32melse\u001b[0m\u001b[0;34m:\u001b[0m\u001b[0;34m\u001b[0m\u001b[0m\n\u001b[0;32m--> 477\u001b[0;31m             \u001b[0mresult\u001b[0m \u001b[0;34m=\u001b[0m \u001b[0mself\u001b[0m\u001b[0;34m.\u001b[0m\u001b[0mforward\u001b[0m\u001b[0;34m(\u001b[0m\u001b[0;34m*\u001b[0m\u001b[0minput\u001b[0m\u001b[0;34m,\u001b[0m \u001b[0;34m**\u001b[0m\u001b[0mkwargs\u001b[0m\u001b[0;34m)\u001b[0m\u001b[0;34m\u001b[0m\u001b[0m\n\u001b[0m\u001b[1;32m    478\u001b[0m         \u001b[0;32mfor\u001b[0m \u001b[0mhook\u001b[0m \u001b[0;32min\u001b[0m \u001b[0mself\u001b[0m\u001b[0;34m.\u001b[0m\u001b[0m_forward_hooks\u001b[0m\u001b[0;34m.\u001b[0m\u001b[0mvalues\u001b[0m\u001b[0;34m(\u001b[0m\u001b[0;34m)\u001b[0m\u001b[0;34m:\u001b[0m\u001b[0;34m\u001b[0m\u001b[0m\n\u001b[1;32m    479\u001b[0m             \u001b[0mhook_result\u001b[0m \u001b[0;34m=\u001b[0m \u001b[0mhook\u001b[0m\u001b[0;34m(\u001b[0m\u001b[0mself\u001b[0m\u001b[0;34m,\u001b[0m \u001b[0minput\u001b[0m\u001b[0;34m,\u001b[0m \u001b[0mresult\u001b[0m\u001b[0;34m)\u001b[0m\u001b[0;34m\u001b[0m\u001b[0m\n",
      "\u001b[0;32m/anaconda2/lib/python2.7/site-packages/torch/nn/modules/loss.pyc\u001b[0m in \u001b[0;36mforward\u001b[0;34m(self, input, target)\u001b[0m\n\u001b[1;32m    860\u001b[0m     \u001b[0;32mdef\u001b[0m \u001b[0mforward\u001b[0m\u001b[0;34m(\u001b[0m\u001b[0mself\u001b[0m\u001b[0;34m,\u001b[0m \u001b[0minput\u001b[0m\u001b[0;34m,\u001b[0m \u001b[0mtarget\u001b[0m\u001b[0;34m)\u001b[0m\u001b[0;34m:\u001b[0m\u001b[0;34m\u001b[0m\u001b[0m\n\u001b[1;32m    861\u001b[0m         return F.cross_entropy(input, target, weight=self.weight,\n\u001b[0;32m--> 862\u001b[0;31m                                ignore_index=self.ignore_index, reduction=self.reduction)\n\u001b[0m\u001b[1;32m    863\u001b[0m \u001b[0;34m\u001b[0m\u001b[0m\n\u001b[1;32m    864\u001b[0m \u001b[0;34m\u001b[0m\u001b[0m\n",
      "\u001b[0;32m/anaconda2/lib/python2.7/site-packages/torch/nn/functional.pyc\u001b[0m in \u001b[0;36mcross_entropy\u001b[0;34m(input, target, weight, size_average, ignore_index, reduce, reduction)\u001b[0m\n\u001b[1;32m   1548\u001b[0m     \u001b[0;32mif\u001b[0m \u001b[0msize_average\u001b[0m \u001b[0;32mis\u001b[0m \u001b[0;32mnot\u001b[0m \u001b[0mNone\u001b[0m \u001b[0;32mor\u001b[0m \u001b[0mreduce\u001b[0m \u001b[0;32mis\u001b[0m \u001b[0;32mnot\u001b[0m \u001b[0mNone\u001b[0m\u001b[0;34m:\u001b[0m\u001b[0;34m\u001b[0m\u001b[0m\n\u001b[1;32m   1549\u001b[0m         \u001b[0mreduction\u001b[0m \u001b[0;34m=\u001b[0m \u001b[0m_Reduction\u001b[0m\u001b[0;34m.\u001b[0m\u001b[0mlegacy_get_string\u001b[0m\u001b[0;34m(\u001b[0m\u001b[0msize_average\u001b[0m\u001b[0;34m,\u001b[0m \u001b[0mreduce\u001b[0m\u001b[0;34m)\u001b[0m\u001b[0;34m\u001b[0m\u001b[0m\n\u001b[0;32m-> 1550\u001b[0;31m     \u001b[0;32mreturn\u001b[0m \u001b[0mnll_loss\u001b[0m\u001b[0;34m(\u001b[0m\u001b[0mlog_softmax\u001b[0m\u001b[0;34m(\u001b[0m\u001b[0minput\u001b[0m\u001b[0;34m,\u001b[0m \u001b[0;36m1\u001b[0m\u001b[0;34m)\u001b[0m\u001b[0;34m,\u001b[0m \u001b[0mtarget\u001b[0m\u001b[0;34m,\u001b[0m \u001b[0mweight\u001b[0m\u001b[0;34m,\u001b[0m \u001b[0mNone\u001b[0m\u001b[0;34m,\u001b[0m \u001b[0mignore_index\u001b[0m\u001b[0;34m,\u001b[0m \u001b[0mNone\u001b[0m\u001b[0;34m,\u001b[0m \u001b[0mreduction\u001b[0m\u001b[0;34m)\u001b[0m\u001b[0;34m\u001b[0m\u001b[0m\n\u001b[0m\u001b[1;32m   1551\u001b[0m \u001b[0;34m\u001b[0m\u001b[0m\n\u001b[1;32m   1552\u001b[0m \u001b[0;34m\u001b[0m\u001b[0m\n",
      "\u001b[0;32m/anaconda2/lib/python2.7/site-packages/torch/nn/functional.pyc\u001b[0m in \u001b[0;36mnll_loss\u001b[0;34m(input, target, weight, size_average, ignore_index, reduce, reduction)\u001b[0m\n\u001b[1;32m   1405\u001b[0m                          .format(input.size(0), target.size(0)))\n\u001b[1;32m   1406\u001b[0m     \u001b[0;32mif\u001b[0m \u001b[0mdim\u001b[0m \u001b[0;34m==\u001b[0m \u001b[0;36m2\u001b[0m\u001b[0;34m:\u001b[0m\u001b[0;34m\u001b[0m\u001b[0m\n\u001b[0;32m-> 1407\u001b[0;31m         \u001b[0;32mreturn\u001b[0m \u001b[0mtorch\u001b[0m\u001b[0;34m.\u001b[0m\u001b[0m_C\u001b[0m\u001b[0;34m.\u001b[0m\u001b[0m_nn\u001b[0m\u001b[0;34m.\u001b[0m\u001b[0mnll_loss\u001b[0m\u001b[0;34m(\u001b[0m\u001b[0minput\u001b[0m\u001b[0;34m,\u001b[0m \u001b[0mtarget\u001b[0m\u001b[0;34m,\u001b[0m \u001b[0mweight\u001b[0m\u001b[0;34m,\u001b[0m \u001b[0m_Reduction\u001b[0m\u001b[0;34m.\u001b[0m\u001b[0mget_enum\u001b[0m\u001b[0;34m(\u001b[0m\u001b[0mreduction\u001b[0m\u001b[0;34m)\u001b[0m\u001b[0;34m,\u001b[0m \u001b[0mignore_index\u001b[0m\u001b[0;34m)\u001b[0m\u001b[0;34m\u001b[0m\u001b[0m\n\u001b[0m\u001b[1;32m   1408\u001b[0m     \u001b[0;32melif\u001b[0m \u001b[0mdim\u001b[0m \u001b[0;34m==\u001b[0m \u001b[0;36m4\u001b[0m\u001b[0;34m:\u001b[0m\u001b[0;34m\u001b[0m\u001b[0m\n\u001b[1;32m   1409\u001b[0m         \u001b[0;32mreturn\u001b[0m \u001b[0mtorch\u001b[0m\u001b[0;34m.\u001b[0m\u001b[0m_C\u001b[0m\u001b[0;34m.\u001b[0m\u001b[0m_nn\u001b[0m\u001b[0;34m.\u001b[0m\u001b[0mnll_loss2d\u001b[0m\u001b[0;34m(\u001b[0m\u001b[0minput\u001b[0m\u001b[0;34m,\u001b[0m \u001b[0mtarget\u001b[0m\u001b[0;34m,\u001b[0m \u001b[0mweight\u001b[0m\u001b[0;34m,\u001b[0m \u001b[0m_Reduction\u001b[0m\u001b[0;34m.\u001b[0m\u001b[0mget_enum\u001b[0m\u001b[0;34m(\u001b[0m\u001b[0mreduction\u001b[0m\u001b[0;34m)\u001b[0m\u001b[0;34m,\u001b[0m \u001b[0mignore_index\u001b[0m\u001b[0;34m)\u001b[0m\u001b[0;34m\u001b[0m\u001b[0m\n",
      "\u001b[0;31mRuntimeError\u001b[0m: Assertion `cur_target >= 0 && cur_target < n_classes' failed.  at /Users/soumith/code/builder/wheel/pytorch-src/aten/src/THNN/generic/ClassNLLCriterion.c:93"
     ]
    }
   ],
   "source": [
    "gcn = GCN(features_business, features_users, adj_lists, num_classes=5)\n",
    "lossessgd1 = []\n",
    "accuraciessgd1 = []\n",
    "epoch_lossessgd1 = []\n",
    "optimizer = torch.optim.SGD(filter(lambda p : p.requires_grad, gcn.parameters()), lr=0.1)\n",
    "labels = np.array(y_train)\n",
    "y_train_tensor = torch.LongTensor(labels)\n",
    "for i in range(100):\n",
    "    #print(\"Epoch: \", i)\n",
    "    num_correct = 0\n",
    "    num_total = 0\n",
    "    loss_sum = []\n",
    "    for batch in range(8*16):\n",
    "        start_time = time.time()\n",
    "        batch_nodes = train[1024*batch:1024*(batch+1)]\n",
    "        optimizer.zero_grad()\n",
    "        y_pred = gcn(batch_nodes)\n",
    "        loss = gcn.loss(y_pred, y_train_tensor[batch_nodes])\n",
    "        lossessgd1.append(loss.item())\n",
    "        loss.backward()\n",
    "        optimizer.step()\n",
    "        end_time = time.time()\n",
    "        batch_time = end_time - start_time\n",
    "        #if batch % 50 == 0:\n",
    "        pred = torch.max(y_pred, 1)[1].float()\n",
    "        num_correct += (pred == y_train_tensor[batch_nodes].float()).sum().item()\n",
    "        num_total += len(batch_nodes)\n",
    "        loss_sum.append(loss.item())\n",
    "    acc = (num_correct*1.0) / num_total\n",
    "    avg_loss = np.mean(loss_sum)\n",
    "    epoch_lossessgd1.append(avg_loss)\n",
    "    accuraciessgd1.append(acc)\n",
    "    print(\"Epoch:\", i, \"Loss: \", avg_loss, \"Batch time: \", batch_time, \"Train accuracy: \", acc)"
   ]
  },
  {
   "cell_type": "code",
   "execution_count": null,
   "metadata": {},
   "outputs": [],
   "source": [
    "epochs = [i for i in range(12800)]\n",
    "plt.plot(epochs, lossessgd07, 'b', label=\"train loss\");\n",
    "plt.legend(loc='upper left');\n",
    "plt.ylabel(\"Loss\");\n",
    "plt.xlabel(\"Num iterations\");"
   ]
  },
  {
   "cell_type": "code",
   "execution_count": null,
   "metadata": {},
   "outputs": [],
   "source": [
    "epochs = [i for i in range(100)]\n",
    "plt.plot(epochs, accuraciessgd07, 'b', label=\"train accuracy\");\n",
    "plt.legend(loc='upper left');\n",
    "plt.ylabel(\"Accuracy\");\n",
    "plt.xlabel(\"Num epochs\");"
   ]
  },
  {
   "cell_type": "code",
   "execution_count": null,
   "metadata": {},
   "outputs": [],
   "source": [
    "epochs = [i for i in range(100)]\n",
    "plt.plot(epochs, epoch_lossessgd07, 'b', label=\"train losses\");\n",
    "plt.legend(loc='upper left');\n",
    "plt.ylabel(\"Loss\");\n",
    "plt.xlabel(\"Num epochs\");"
   ]
  },
  {
   "cell_type": "code",
   "execution_count": null,
   "metadata": {},
   "outputs": [],
   "source": []
  }
 ],
 "metadata": {
  "kernelspec": {
   "display_name": "Python 3",
   "language": "python",
   "name": "python3"
  },
  "language_info": {
   "codemirror_mode": {
    "name": "ipython",
    "version": 2
   },
   "file_extension": ".py",
   "mimetype": "text/x-python",
   "name": "python",
   "nbconvert_exporter": "python",
   "pygments_lexer": "ipython2",
   "version": "2.7.15"
  }
 },
 "nbformat": 4,
 "nbformat_minor": 2
}
